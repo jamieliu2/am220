{
 "cells": [
  {
   "cell_type": "code",
   "execution_count": null,
   "id": "67cda4e2-15ff-44f3-842e-bc2c05fd8738",
   "metadata": {},
   "outputs": [],
   "source": [
    "import numpy as np\n",
    "import torch\n",
    "\n",
    "%run ../../homework/setup/pltstyle\n",
    "from tqdm.notebook import trange\n",
    "\n",
    "from magi_psvgd.torch import magi\n",
    "from magi_psvgd.torch.magi import MAGISolver\n",
    "\n",
    "from magi_psvgd.tests.models import fitzhugh_nagumo as fn\n",
    "from magi_psvgd.tests.make_test import ODEmodel\n",
    "from magi_psvgd.tests import test_helpers\n",
    "\n",
    "import time"
   ]
  },
  {
   "cell_type": "code",
   "execution_count": null,
   "id": "202c7a71-3d79-4a6b-aaab-9e083b51be4a",
   "metadata": {},
   "outputs": [],
   "source": [
    "MODEL = fn\n",
    "model = ODEmodel(MODEL)\n",
    "model.get_ode_solution(T=model.I.max())\n",
    "\n",
    "X_names = [\"V\", \"R\"]\n",
    "theta_names = [r\"a\", r\"b\", r\"c\"]\n",
    "model_name = \"FitzHugh-Nagumo\"\n",
    "logmodel = False\n",
    "\n",
    "rounded = 3"
   ]
  },
  {
   "cell_type": "code",
   "execution_count": null,
   "id": "13e701cb-e62b-493c-a255-a3eede787bd0",
   "metadata": {},
   "outputs": [],
   "source": [
    "test_helpers.check_gradients(MODEL.ode, MODEL.dfdx, MODEL.dfdtheta, n=10,\n",
    "                             D=len(MODEL.hyperparameters[\"X0\"]), p=len(MODEL.hyperparameters[\"theta\"]), trials=100)"
   ]
  },
  {
   "cell_type": "code",
   "execution_count": null,
   "id": "9c2e4cdc-dff0-405f-a14f-d4189428100b",
   "metadata": {},
   "outputs": [],
   "source": [
    "thetas_errs = []\n",
    "x_errs = []\n",
    "dims = []\n",
    "times = []\n",
    "\n",
    "n = 321 # test cases: n = 41, 81, 161, 321\n",
    "I = np.linspace(0, 20, n)\n",
    "\n",
    "B = 100\n",
    "for _ in range(B):    \n",
    "    data = model.generate_sample(random_seed=None)\n",
    "    data_disc = test_helpers.discretize_data(data, I, rounded=rounded)\n",
    "    \n",
    "    start_time = time.time()\n",
    "    \n",
    "    magisolver = MAGISolver(\n",
    "        ode=MODEL.ode, dfdx=MODEL.dfdx, dfdtheta=MODEL.dfdtheta, data=data_disc,\n",
    "        theta_guess=np.array([1., 1., 1.]), theta_conf=0,\n",
    "        sigmas=np.array([0.2, 0.2]),\n",
    "        X_guess=1,\n",
    "        mu=None, mu_dot=None,\n",
    "        pos_X=False, pos_theta=False,\n",
    "        prior_temperature=None,\n",
    "        bayesian_sigma=True\n",
    "    )\n",
    "    magisolver.initialize_particles(k_0=400, dtype=torch.float32, device='cuda', init_sd=0.1, random_seed=None)\n",
    "\n",
    "    optimizer = torch.optim.Adam\n",
    "    optimizer_kwargs = {'params':True, 'lr':1e-2}\n",
    "    \n",
    "    X_result, theta_result, sigma_result, ss_dim = magisolver.solve(optimizer=optimizer, optimizer_kwargs=optimizer_kwargs,\n",
    "                    max_iter=10, subspace_updates=1000, alpha=0.01, atol=5, rtol=0, monitor_convergence=True)\n",
    "    \n",
    "    end_time = time.time()\n",
    "\n",
    "    x_err, t_err = model.evaluate(X_result, theta_result, sigma_result, magisolver.I, logmodel=False)\n",
    "    total_time = end_time - start_time\n",
    "\n",
    "    thetas_errs.append(t_err)\n",
    "    x_errs.append(x_err)\n",
    "    dims.append(ss_dim.item())\n",
    "    times.append(total_time)"
   ]
  },
  {
   "cell_type": "code",
   "execution_count": null,
   "id": "d8c3e2c0-2d5d-4572-bd06-b9e7ca8495a1",
   "metadata": {},
   "outputs": [],
   "source": [
    "times"
   ]
  },
  {
   "cell_type": "code",
   "execution_count": null,
   "id": "e5c92db6-3d31-4589-9c7f-d342f48b8516",
   "metadata": {},
   "outputs": [],
   "source": [
    "# average runtime\n",
    "np.array(times).mean()"
   ]
  },
  {
   "cell_type": "code",
   "execution_count": null,
   "id": "e95f5898-e638-469c-9fbb-5bb2027d3453",
   "metadata": {},
   "outputs": [],
   "source": [
    "# average subspace dimension\n",
    "np.array(dims).mean()"
   ]
  },
  {
   "cell_type": "code",
   "execution_count": null,
   "id": "91c607f8-2a23-44ca-b578-93f566f2afd2",
   "metadata": {},
   "outputs": [],
   "source": [
    "# prmse\n",
    "(np.array(thetas_errs)**2).mean(axis=0)**0.5"
   ]
  },
  {
   "cell_type": "code",
   "execution_count": null,
   "id": "ec5d1f1b-832f-48fd-bd16-9c54c54ca873",
   "metadata": {},
   "outputs": [],
   "source": [
    "# mtrmse\n",
    "(((np.array(x_errs)**2).sum(axis=1) / magisolver.I.shape[0])**0.5).mean(axis=0)"
   ]
  },
  {
   "cell_type": "code",
   "execution_count": null,
   "id": "61cd8984-01e1-43e3-b4f9-19908eb42633",
   "metadata": {},
   "outputs": [],
   "source": [
    "fig, axes = plt.subplots(1, data.shape[1]-1, figsize=(10, 3))\n",
    "\n",
    "for d, ax in enumerate(axes):\n",
    "    traj = model.solution[:,d+1]\n",
    "    if logmodel:\n",
    "        traj = np.exp(traj)\n",
    "    obs = data[:,d+1]\n",
    "    if logmodel:\n",
    "        obs = np.exp(obs)\n",
    "    \n",
    "    ax.plot(model.solution[:,0], traj, c='orange', zorder=1)\n",
    "    ax.scatter(data[:,0], obs, c='r', zorder=2)\n",
    "\n",
    "    ax.set_title(f\"Component ${X_names[d]}$\")\n",
    "    ax.set_xlabel(\"Time\")\n",
    "\n",
    "fig.suptitle(f\"Sparse {model_name} Data on Ground Truth\")\n",
    "\n",
    "plt.tight_layout()"
   ]
  },
  {
   "cell_type": "code",
   "execution_count": null,
   "id": "bdc0b22a-d2a8-4691-b3f2-c8e337022913",
   "metadata": {},
   "outputs": [],
   "source": [
    "plt.plot(magisolver.I, magisolver.x_init if not logmodel else np.exp(magisolver.x_init))\n",
    "plt.scatter(data[:,0], data[:,1] if not logmodel else np.exp(data[:,1]))\n",
    "plt.scatter(data[:,0], data[:,2] if not logmodel else np.exp(data[:,2]))\n",
    "\n",
    "plt.plot(model.solution[:,0], model.solution[:,1:] if not logmodel else np.exp(model.solution[:,1:]))\n",
    "plt.show()"
   ]
  },
  {
   "cell_type": "code",
   "execution_count": null,
   "id": "32e06785-566e-4160-85ae-eb345c4cafed",
   "metadata": {},
   "outputs": [],
   "source": [
    "X_result, theta_result, sigma_result = magisolver.from_svgd_vector(magisolver.particles)"
   ]
  },
  {
   "cell_type": "code",
   "execution_count": null,
   "id": "17d7aa0f-2e2a-405b-9908-e24b3d9e0057",
   "metadata": {},
   "outputs": [],
   "source": [
    "X_true = model.solution.copy()\n",
    "obs_data = data.copy()\n",
    "\n",
    "if not logmodel:\n",
    "    X_preds = X_result.cpu()\n",
    "else:\n",
    "    X_preds = torch.exp(X_result).cpu()\n",
    "    X_true[:,1:] = np.exp(X_true[:,1:])\n",
    "    obs_data[:,1:] = np.exp(obs_data[:,1:])\n",
    "    \n",
    "X_means = torch.mean(X_preds, axis=0)\n",
    "X_quantiles = np.quantile(X_preds, [0.025, 0.975],axis=0)\n",
    "\n",
    "ts = magisolver.I.flatten()"
   ]
  },
  {
   "cell_type": "code",
   "execution_count": null,
   "id": "3fa62850-7ad9-4afe-bb88-4435d3a50e03",
   "metadata": {},
   "outputs": [],
   "source": [
    "_, hist_axes = plt.subplots(1, p:=model.theta.shape[0], figsize=(10, 3))\n",
    "for i in range(p):\n",
    "    hist_axes[i].hist(theta_result[:,i].cpu(), bins=14)\n",
    "    hist_axes[i].set_title(fr'$E[{theta_names[i]}] \\approx {torch.mean(theta_result[:,i]):.4f}$')\n",
    "    # print(f'{theta_labels[i]} ->', np.quantile(theta_result[:,i].cpu(), [0.025, 0.975]))\n",
    "\n",
    "temp_theta = r\"$\\boldsymbol{\\theta}$\"\n",
    "plt.suptitle(fr\"pSVGD Posterior Distributions of {model_name} System ODE Parameters {temp_theta}\")\n",
    "plt.tight_layout()"
   ]
  },
  {
   "cell_type": "code",
   "execution_count": null,
   "id": "b5083552-6e57-450e-8982-6cb889243d95",
   "metadata": {},
   "outputs": [],
   "source": [
    "D = X_means.shape[1]\n",
    "\n",
    "_, traj_axes = plt.subplots(1, D, figsize=(10, 3))\n",
    "\n",
    "for d in range(D):\n",
    "    traj_axes[d].plot(ts, X_means[:,d], color='b', zorder=3, label=\"Posterior Mean\")\n",
    "    traj_axes[d].fill_between(x=ts, y1=X_quantiles[0,:,d], y2=X_quantiles[1,:,d], alpha=0.2, color='b', zorder=1, label=\"95% CI\")\n",
    "    traj_axes[d].plot(X_true[:,0], X_true[:,d+1], color='orange', zorder=2, label=\"Ground Truth\")\n",
    "    # traj_axes[d].scatter(data[:,0], obs_data[:,d+1], color='r', zorder=4, label=\"Observed Data\")\n",
    "    traj_axes[d].set_title(f'Component ${X_names[d]}$')\n",
    "    traj_axes[d].set_xlabel('Time')\n",
    "\n",
    "traj_axes[-1].legend(loc='center left', bbox_to_anchor=(1, 0.5))\n",
    "temp_x = r\"$\\boldsymbol{X}$\"\n",
    "plt.suptitle(fr\"pSVGD Posterior Distributions of {model_name} System ODE Trajectories {temp_x}\")\n",
    "\n",
    "plt.tight_layout()"
   ]
  }
 ],
 "metadata": {
  "kernelspec": {
   "display_name": "Python 3.12.5 (main)",
   "language": "python",
   "name": "main"
  },
  "language_info": {
   "codemirror_mode": {
    "name": "ipython",
    "version": 3
   },
   "file_extension": ".py",
   "mimetype": "text/x-python",
   "name": "python",
   "nbconvert_exporter": "python",
   "pygments_lexer": "ipython3",
   "version": "3.12.5"
  }
 },
 "nbformat": 4,
 "nbformat_minor": 5
}
